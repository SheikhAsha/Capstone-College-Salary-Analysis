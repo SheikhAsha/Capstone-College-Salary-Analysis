{
 "cells": [
  {
   "cell_type": "code",
   "execution_count": 1,
   "id": "0f49dd00",
   "metadata": {},
   "outputs": [],
   "source": [
    "import pandas as pd \n",
    "import numpy as np\n",
    "import seaborn as sns\n",
    "import sklearn\n",
    "import matplotlib.pyplot as plt\n",
    "import statsmodels.api as sm\n",
    "from sklearn import metrics as mt"
   ]
  },
  {
   "cell_type": "markdown",
   "id": "94edc098",
   "metadata": {},
   "source": [
    "# College Salary Analysis\n",
    "\n",
    "Analysis By: Asha Sheikh\n",
    "\n",
    "Data Source: https://www.kaggle.com/wsj/college-salaries\n",
    "\n",
    "I will be exploring colleges located in United States and the salaries associated with the school type such as State vs Party, different majors and where the schools are located. The data set will break down starting, median, 10th, 25th, 75th and 90th percentile salaries. Some questions we will be exploring is will salaries based on region and school type affect your starting salary. \n",
    "\n",
    "By the end of our exploration the main hypothesis: Attending an Ivy League school automatically gives you a higher starting salary. \n"
   ]
  },
  {
   "cell_type": "code",
   "execution_count": 2,
   "id": "c01050a5",
   "metadata": {},
   "outputs": [],
   "source": [
    "#importing datasets\n",
    "degPayback = pd.read_csv(\n",
    "    '/Users/ashasheikh/Documents/DataBootcamp/Capstone_Project/college_data/degPayback.csv'\n",
    ")\n",
    "\n",
    "salRegion = pd.read_csv(\n",
    "    '/Users/ashasheikh/Documents/DataBootcamp/Capstone_Project/college_data/salRegion.csv'\n",
    ")\n",
    "\n",
    "salCollege = pd.read_csv(\n",
    "    '/Users/ashasheikh/Documents/DataBootcamp/Capstone_Project/college_data/salcollege.csv'\n",
    ")"
   ]
  },
  {
   "cell_type": "markdown",
   "id": "29bae168",
   "metadata": {},
   "source": [
    "## Cleaning Data\n",
    "\n",
    "In this section, I will be cleaning both of the datasets by updating the columns names, converting all the columns that are suppose to be salaries into floats values, as well as merging the salRegion and salCollege datasets together as the share 'school name' as a column. "
   ]
  },
  {
   "cell_type": "code",
   "execution_count": 3,
   "id": "ed3f170d",
   "metadata": {
    "scrolled": true
   },
   "outputs": [],
   "source": [
    "#renaming all the columns\n",
    "degPayback.rename(columns={\n",
    "    'Undergraduate Major': 'major',\n",
    "    'Starting Median Salary': 'start_median_salary',\n",
    "    'Mid-Career Median Salary': 'mid_median_salary',\n",
    "    'Percent change from Starting to Mid-Career Salary': 'per_start_to_mid',\n",
    "    'Mid-Career 10th Percentile Salary': 'mid_per_10',\n",
    "    'Mid-Career 25th Percentile Salary': 'mid_per_25',\n",
    "    'Mid-Career 75th Percentile Salary': 'mid_per_75',\n",
    "    'Mid-Career 90th Percentile Salary': 'mid_per_90',\n",
    "},\n",
    "                  inplace=True)"
   ]
  },
  {
   "cell_type": "code",
   "execution_count": 4,
   "id": "23bbfdcd",
   "metadata": {},
   "outputs": [
    {
     "name": "stderr",
     "output_type": "stream",
     "text": [
      "<ipython-input-4-659f38f63a62>:9: FutureWarning: The default value of regex will change from True to False in a future version. In addition, single character regular expressions will*not* be treated as literal strings when regex=True.\n",
      "  degPayback[col] = degPayback[col].str.replace(\"$\", \"\")\n"
     ]
    }
   ],
   "source": [
    "#Grabbing the columns that are salaries values\n",
    "degPayback_col = [\n",
    "    'start_median_salary', 'mid_median_salary', 'mid_per_10', 'mid_per_25',\n",
    "    'mid_per_75', 'mid_per_90'\n",
    "]\n",
    "\n",
    "#using a for loop to go through the data frame and remove '$', ',' and converting them to a numeric value\n",
    "for col in degPayback_col:\n",
    "    degPayback[col] = degPayback[col].str.replace(\"$\", \"\")\n",
    "    degPayback[col] = degPayback[col].str.replace(\",\", \"\")\n",
    "    degPayback[col] = pd.to_numeric(degPayback[col])"
   ]
  },
  {
   "cell_type": "code",
   "execution_count": 5,
   "id": "c7445128",
   "metadata": {},
   "outputs": [],
   "source": [
    "#Joining the data sets salRegion and SalCollge using the value 'School Name'\n",
    "school_data = pd.merge(salRegion, salCollege, how=\"left\", on=\"School Name\")\n",
    "\n",
    "#Dropping duplicate columns \n",
    "school_data = school_data.drop(columns=[\n",
    "    'Starting Median Salary_y', 'Mid-Career Median Salary_y',\n",
    "    'Mid-Career 10th Percentile Salary_y',\n",
    "    'Mid-Career 25th Percentile Salary_y',\n",
    "    'Mid-Career 75th Percentile Salary_y',\n",
    "    'Mid-Career 90th Percentile Salary_y'\n",
    "])"
   ]
  },
  {
   "cell_type": "code",
   "execution_count": 6,
   "id": "8a759773",
   "metadata": {
    "scrolled": true
   },
   "outputs": [],
   "source": [
    "#renaming all the columns\n",
    "school_data.rename(columns={\n",
    "    'School Name': 'school',\n",
    "    'Region': 'region',\n",
    "    'School Type': 'school_type',\n",
    "    'Starting Median Salary_x': 'start_median_salary',\n",
    "    'Mid-Career Median Salary_x': 'mid_median_salary',\n",
    "    'Mid-Career 10th Percentile Salary_x': 'mid_per_10',\n",
    "    'Mid-Career 25th Percentile Salary_x': 'mid_per_25',\n",
    "    'Mid-Career 75th Percentile Salary_x': 'mid_per_75',\n",
    "    'Mid-Career 90th Percentile Salary_x': 'mid_per_90',\n",
    "},\n",
    "                     inplace=True)"
   ]
  },
  {
   "cell_type": "code",
   "execution_count": 7,
   "id": "8315619c",
   "metadata": {
    "scrolled": true
   },
   "outputs": [
    {
     "name": "stderr",
     "output_type": "stream",
     "text": [
      "<ipython-input-7-10dde86ea548>:9: FutureWarning: The default value of regex will change from True to False in a future version. In addition, single character regular expressions will*not* be treated as literal strings when regex=True.\n",
      "  school_data[col] = school_data[col].str.replace(\"$\",\"\")\n"
     ]
    }
   ],
   "source": [
    "#Grabbing the columns that are salaries values\n",
    "school_col = [\n",
    "    'start_median_salary', 'mid_median_salary',\n",
    "    'mid_per_10', 'mid_per_25', 'mid_per_75', 'mid_per_90'\n",
    "]\n",
    "\n",
    "#using a for loop to go through the data frame and remove '$', ',' and converting them to a numeric value\n",
    "for col in school_col:\n",
    "    school_data[col] = school_data[col].str.replace(\"$\",\"\")\n",
    "    school_data[col] = school_data[col].str.replace(\",\",\"\")\n",
    "    school_data[col] = pd.to_numeric(school_data[col])\n"
   ]
  },
  {
   "cell_type": "code",
   "execution_count": 8,
   "id": "446621fe",
   "metadata": {},
   "outputs": [
    {
     "data": {
      "text/html": [
       "<div>\n",
       "<style scoped>\n",
       "    .dataframe tbody tr th:only-of-type {\n",
       "        vertical-align: middle;\n",
       "    }\n",
       "\n",
       "    .dataframe tbody tr th {\n",
       "        vertical-align: top;\n",
       "    }\n",
       "\n",
       "    .dataframe thead th {\n",
       "        text-align: right;\n",
       "    }\n",
       "</style>\n",
       "<table border=\"1\" class=\"dataframe\">\n",
       "  <thead>\n",
       "    <tr style=\"text-align: right;\">\n",
       "      <th></th>\n",
       "      <th>major</th>\n",
       "      <th>start_median_salary</th>\n",
       "      <th>mid_median_salary</th>\n",
       "      <th>per_start_to_mid</th>\n",
       "      <th>mid_per_10</th>\n",
       "      <th>mid_per_25</th>\n",
       "      <th>mid_per_75</th>\n",
       "      <th>mid_per_90</th>\n",
       "    </tr>\n",
       "  </thead>\n",
       "  <tbody>\n",
       "    <tr>\n",
       "      <th>0</th>\n",
       "      <td>Accounting</td>\n",
       "      <td>46000.0</td>\n",
       "      <td>77100.0</td>\n",
       "      <td>67.6</td>\n",
       "      <td>42200.0</td>\n",
       "      <td>56100.0</td>\n",
       "      <td>108000.0</td>\n",
       "      <td>152000.0</td>\n",
       "    </tr>\n",
       "    <tr>\n",
       "      <th>1</th>\n",
       "      <td>Aerospace Engineering</td>\n",
       "      <td>57700.0</td>\n",
       "      <td>101000.0</td>\n",
       "      <td>75.0</td>\n",
       "      <td>64300.0</td>\n",
       "      <td>82100.0</td>\n",
       "      <td>127000.0</td>\n",
       "      <td>161000.0</td>\n",
       "    </tr>\n",
       "    <tr>\n",
       "      <th>2</th>\n",
       "      <td>Agriculture</td>\n",
       "      <td>42600.0</td>\n",
       "      <td>71900.0</td>\n",
       "      <td>68.8</td>\n",
       "      <td>36300.0</td>\n",
       "      <td>52100.0</td>\n",
       "      <td>96300.0</td>\n",
       "      <td>150000.0</td>\n",
       "    </tr>\n",
       "    <tr>\n",
       "      <th>3</th>\n",
       "      <td>Anthropology</td>\n",
       "      <td>36800.0</td>\n",
       "      <td>61500.0</td>\n",
       "      <td>67.1</td>\n",
       "      <td>33800.0</td>\n",
       "      <td>45500.0</td>\n",
       "      <td>89300.0</td>\n",
       "      <td>138000.0</td>\n",
       "    </tr>\n",
       "    <tr>\n",
       "      <th>4</th>\n",
       "      <td>Architecture</td>\n",
       "      <td>41600.0</td>\n",
       "      <td>76800.0</td>\n",
       "      <td>84.6</td>\n",
       "      <td>50600.0</td>\n",
       "      <td>62200.0</td>\n",
       "      <td>97000.0</td>\n",
       "      <td>136000.0</td>\n",
       "    </tr>\n",
       "  </tbody>\n",
       "</table>\n",
       "</div>"
      ],
      "text/plain": [
       "                   major  start_median_salary  mid_median_salary  \\\n",
       "0             Accounting              46000.0            77100.0   \n",
       "1  Aerospace Engineering              57700.0           101000.0   \n",
       "2            Agriculture              42600.0            71900.0   \n",
       "3           Anthropology              36800.0            61500.0   \n",
       "4           Architecture              41600.0            76800.0   \n",
       "\n",
       "   per_start_to_mid  mid_per_10  mid_per_25  mid_per_75  mid_per_90  \n",
       "0              67.6     42200.0     56100.0    108000.0    152000.0  \n",
       "1              75.0     64300.0     82100.0    127000.0    161000.0  \n",
       "2              68.8     36300.0     52100.0     96300.0    150000.0  \n",
       "3              67.1     33800.0     45500.0     89300.0    138000.0  \n",
       "4              84.6     50600.0     62200.0     97000.0    136000.0  "
      ]
     },
     "execution_count": 8,
     "metadata": {},
     "output_type": "execute_result"
    }
   ],
   "source": [
    "#Final Datasets\n",
    "degPayback.head(5)"
   ]
  },
  {
   "cell_type": "code",
   "execution_count": 9,
   "id": "ac33b31e",
   "metadata": {},
   "outputs": [
    {
     "data": {
      "text/html": [
       "<div>\n",
       "<style scoped>\n",
       "    .dataframe tbody tr th:only-of-type {\n",
       "        vertical-align: middle;\n",
       "    }\n",
       "\n",
       "    .dataframe tbody tr th {\n",
       "        vertical-align: top;\n",
       "    }\n",
       "\n",
       "    .dataframe thead th {\n",
       "        text-align: right;\n",
       "    }\n",
       "</style>\n",
       "<table border=\"1\" class=\"dataframe\">\n",
       "  <thead>\n",
       "    <tr style=\"text-align: right;\">\n",
       "      <th></th>\n",
       "      <th>school</th>\n",
       "      <th>region</th>\n",
       "      <th>start_median_salary</th>\n",
       "      <th>mid_median_salary</th>\n",
       "      <th>mid_per_10</th>\n",
       "      <th>mid_per_25</th>\n",
       "      <th>mid_per_75</th>\n",
       "      <th>mid_per_90</th>\n",
       "      <th>school_type</th>\n",
       "    </tr>\n",
       "  </thead>\n",
       "  <tbody>\n",
       "    <tr>\n",
       "      <th>0</th>\n",
       "      <td>Stanford University</td>\n",
       "      <td>California</td>\n",
       "      <td>70400.0</td>\n",
       "      <td>129000.0</td>\n",
       "      <td>68400.0</td>\n",
       "      <td>93100.0</td>\n",
       "      <td>184000.0</td>\n",
       "      <td>257000.0</td>\n",
       "      <td>NaN</td>\n",
       "    </tr>\n",
       "    <tr>\n",
       "      <th>1</th>\n",
       "      <td>California Institute of Technology (CIT)</td>\n",
       "      <td>California</td>\n",
       "      <td>75500.0</td>\n",
       "      <td>123000.0</td>\n",
       "      <td>NaN</td>\n",
       "      <td>104000.0</td>\n",
       "      <td>161000.0</td>\n",
       "      <td>NaN</td>\n",
       "      <td>Engineering</td>\n",
       "    </tr>\n",
       "    <tr>\n",
       "      <th>2</th>\n",
       "      <td>Harvey Mudd College</td>\n",
       "      <td>California</td>\n",
       "      <td>71800.0</td>\n",
       "      <td>122000.0</td>\n",
       "      <td>NaN</td>\n",
       "      <td>96000.0</td>\n",
       "      <td>180000.0</td>\n",
       "      <td>NaN</td>\n",
       "      <td>Engineering</td>\n",
       "    </tr>\n",
       "    <tr>\n",
       "      <th>3</th>\n",
       "      <td>University of California, Berkeley</td>\n",
       "      <td>California</td>\n",
       "      <td>59900.0</td>\n",
       "      <td>112000.0</td>\n",
       "      <td>59500.0</td>\n",
       "      <td>81000.0</td>\n",
       "      <td>149000.0</td>\n",
       "      <td>201000.0</td>\n",
       "      <td>State</td>\n",
       "    </tr>\n",
       "    <tr>\n",
       "      <th>4</th>\n",
       "      <td>Occidental College</td>\n",
       "      <td>California</td>\n",
       "      <td>51900.0</td>\n",
       "      <td>105000.0</td>\n",
       "      <td>NaN</td>\n",
       "      <td>54800.0</td>\n",
       "      <td>157000.0</td>\n",
       "      <td>NaN</td>\n",
       "      <td>Liberal Arts</td>\n",
       "    </tr>\n",
       "  </tbody>\n",
       "</table>\n",
       "</div>"
      ],
      "text/plain": [
       "                                     school      region  start_median_salary  \\\n",
       "0                       Stanford University  California              70400.0   \n",
       "1  California Institute of Technology (CIT)  California              75500.0   \n",
       "2                       Harvey Mudd College  California              71800.0   \n",
       "3        University of California, Berkeley  California              59900.0   \n",
       "4                        Occidental College  California              51900.0   \n",
       "\n",
       "   mid_median_salary  mid_per_10  mid_per_25  mid_per_75  mid_per_90  \\\n",
       "0           129000.0     68400.0     93100.0    184000.0    257000.0   \n",
       "1           123000.0         NaN    104000.0    161000.0         NaN   \n",
       "2           122000.0         NaN     96000.0    180000.0         NaN   \n",
       "3           112000.0     59500.0     81000.0    149000.0    201000.0   \n",
       "4           105000.0         NaN     54800.0    157000.0         NaN   \n",
       "\n",
       "    school_type  \n",
       "0           NaN  \n",
       "1   Engineering  \n",
       "2   Engineering  \n",
       "3         State  \n",
       "4  Liberal Arts  "
      ]
     },
     "execution_count": 9,
     "metadata": {},
     "output_type": "execute_result"
    }
   ],
   "source": [
    "#Final Datasets\n",
    "school_data.head(5)"
   ]
  },
  {
   "cell_type": "code",
   "execution_count": 10,
   "id": "1df1b90d",
   "metadata": {},
   "outputs": [],
   "source": [
    "#exporting cleaned up data to csv\n",
    "school_data.to_csv(\"school_data.csv\")\n",
    "#exporting cleaned up data to csv\n",
    "degPayback.to_csv('degPayback.csv')"
   ]
  },
  {
   "cell_type": "markdown",
   "id": "0f80dbbb",
   "metadata": {},
   "source": [
    "## Exploratory Analysis\n",
    "\n",
    "In this section, I will be exploring both of the data sets (degPayback and school_data) to see how starting salaries differ based on school majors, regions and school type. "
   ]
  },
  {
   "cell_type": "code",
   "execution_count": 11,
   "id": "e4e0464c",
   "metadata": {},
   "outputs": [
    {
     "data": {
      "text/html": [
       "<div>\n",
       "<style scoped>\n",
       "    .dataframe tbody tr th:only-of-type {\n",
       "        vertical-align: middle;\n",
       "    }\n",
       "\n",
       "    .dataframe tbody tr th {\n",
       "        vertical-align: top;\n",
       "    }\n",
       "\n",
       "    .dataframe thead th {\n",
       "        text-align: right;\n",
       "    }\n",
       "</style>\n",
       "<table border=\"1\" class=\"dataframe\">\n",
       "  <thead>\n",
       "    <tr style=\"text-align: right;\">\n",
       "      <th></th>\n",
       "      <th>major</th>\n",
       "      <th>start_median_salary</th>\n",
       "      <th>mid_median_salary</th>\n",
       "    </tr>\n",
       "  </thead>\n",
       "  <tbody>\n",
       "    <tr>\n",
       "      <th>43</th>\n",
       "      <td>Physician Assistant</td>\n",
       "      <td>74300.0</td>\n",
       "      <td>91700.0</td>\n",
       "    </tr>\n",
       "    <tr>\n",
       "      <th>8</th>\n",
       "      <td>Chemical Engineering</td>\n",
       "      <td>63200.0</td>\n",
       "      <td>107000.0</td>\n",
       "    </tr>\n",
       "    <tr>\n",
       "      <th>12</th>\n",
       "      <td>Computer Engineering</td>\n",
       "      <td>61400.0</td>\n",
       "      <td>105000.0</td>\n",
       "    </tr>\n",
       "    <tr>\n",
       "      <th>19</th>\n",
       "      <td>Electrical Engineering</td>\n",
       "      <td>60900.0</td>\n",
       "      <td>103000.0</td>\n",
       "    </tr>\n",
       "    <tr>\n",
       "      <th>38</th>\n",
       "      <td>Mechanical Engineering</td>\n",
       "      <td>57900.0</td>\n",
       "      <td>93600.0</td>\n",
       "    </tr>\n",
       "    <tr>\n",
       "      <th>1</th>\n",
       "      <td>Aerospace Engineering</td>\n",
       "      <td>57700.0</td>\n",
       "      <td>101000.0</td>\n",
       "    </tr>\n",
       "    <tr>\n",
       "      <th>30</th>\n",
       "      <td>Industrial Engineering</td>\n",
       "      <td>57700.0</td>\n",
       "      <td>94700.0</td>\n",
       "    </tr>\n",
       "    <tr>\n",
       "      <th>13</th>\n",
       "      <td>Computer Science</td>\n",
       "      <td>55900.0</td>\n",
       "      <td>95500.0</td>\n",
       "    </tr>\n",
       "    <tr>\n",
       "      <th>40</th>\n",
       "      <td>Nursing</td>\n",
       "      <td>54200.0</td>\n",
       "      <td>67000.0</td>\n",
       "    </tr>\n",
       "    <tr>\n",
       "      <th>10</th>\n",
       "      <td>Civil Engineering</td>\n",
       "      <td>53900.0</td>\n",
       "      <td>90500.0</td>\n",
       "    </tr>\n",
       "  </tbody>\n",
       "</table>\n",
       "</div>"
      ],
      "text/plain": [
       "                     major  start_median_salary  mid_median_salary\n",
       "43     Physician Assistant              74300.0            91700.0\n",
       "8     Chemical Engineering              63200.0           107000.0\n",
       "12    Computer Engineering              61400.0           105000.0\n",
       "19  Electrical Engineering              60900.0           103000.0\n",
       "38  Mechanical Engineering              57900.0            93600.0\n",
       "1    Aerospace Engineering              57700.0           101000.0\n",
       "30  Industrial Engineering              57700.0            94700.0\n",
       "13        Computer Science              55900.0            95500.0\n",
       "40                 Nursing              54200.0            67000.0\n",
       "10       Civil Engineering              53900.0            90500.0"
      ]
     },
     "execution_count": 11,
     "metadata": {},
     "output_type": "execute_result"
    }
   ],
   "source": [
    "#getting the top 10 majors that have a high starting salary \n",
    "top_10_majors = degPayback.sort_values('start_median_salary',ascending = False).head(10)\n",
    "\n",
    "#dropping unnecessay columns\n",
    "top_10_majors = top_10_majors.drop(columns=[\n",
    "     'mid_per_10', 'mid_per_25', 'mid_per_75', 'mid_per_90', 'per_start_to_mid'\n",
    "])\n",
    "\n",
    "top_10_majors "
   ]
  },
  {
   "cell_type": "code",
   "execution_count": 12,
   "id": "c8d85ee9",
   "metadata": {
    "scrolled": false
   },
   "outputs": [
    {
     "data": {
      "text/plain": [
       "<AxesSubplot:title={'center':'Starting and Mid-Career Salary based off Major'}, xlabel='major'>"
      ]
     },
     "execution_count": 12,
     "metadata": {},
     "output_type": "execute_result"
    },
    {
     "data": {
      "image/png": "[encoded data removed]",
      "text/plain": [
       "<Figure size 1080x720 with 1 Axes>"
      ]
     },
     "metadata": {
      "needs_background": "light"
     },
     "output_type": "display_data"
    }
   ],
   "source": [
    "#graphing top 10 majors with their starting salary and mid way through their career\n",
    "top_10_majors.plot(x='major',\n",
    "                   y=['start_median_salary', 'mid_median_salary'],\n",
    "                   kind=\"bar\",\n",
    "                   figsize=(15, 10),\n",
    "                   title='Starting and Mid-Career Salary based off Major')"
   ]
  },
  {
   "cell_type": "markdown",
   "id": "3c88ad8c",
   "metadata": {},
   "source": [
    "Here we have broken down the top 10 majors based of their starting salary and approx. in the middle of their career. We can see that a Physical Assistant has the over highest starting salary but Chemical Engineering has a higher mid-career salary. "
   ]
  },
  {
   "cell_type": "markdown",
   "id": "119597c5",
   "metadata": {},
   "source": [
    " "
   ]
  },
  {
   "cell_type": "code",
   "execution_count": 13,
   "id": "9ecd420d",
   "metadata": {},
   "outputs": [
    {
     "data": {
      "text/html": [
       "<div>\n",
       "<style scoped>\n",
       "    .dataframe tbody tr th:only-of-type {\n",
       "        vertical-align: middle;\n",
       "    }\n",
       "\n",
       "    .dataframe tbody tr th {\n",
       "        vertical-align: top;\n",
       "    }\n",
       "\n",
       "    .dataframe thead th {\n",
       "        text-align: right;\n",
       "    }\n",
       "</style>\n",
       "<table border=\"1\" class=\"dataframe\">\n",
       "  <thead>\n",
       "    <tr style=\"text-align: right;\">\n",
       "      <th></th>\n",
       "      <th></th>\n",
       "      <th>Number of Schools</th>\n",
       "    </tr>\n",
       "    <tr>\n",
       "      <th>region</th>\n",
       "      <th>school_type</th>\n",
       "      <th></th>\n",
       "    </tr>\n",
       "  </thead>\n",
       "  <tbody>\n",
       "    <tr>\n",
       "      <th rowspan=\"4\" valign=\"top\">California</th>\n",
       "      <th>Engineering</th>\n",
       "      <td>2</td>\n",
       "    </tr>\n",
       "    <tr>\n",
       "      <th>Liberal Arts</th>\n",
       "      <td>3</td>\n",
       "    </tr>\n",
       "    <tr>\n",
       "      <th>Party</th>\n",
       "      <td>1</td>\n",
       "    </tr>\n",
       "    <tr>\n",
       "      <th>State</th>\n",
       "      <td>21</td>\n",
       "    </tr>\n",
       "    <tr>\n",
       "      <th rowspan=\"4\" valign=\"top\">Midwestern</th>\n",
       "      <th>Engineering</th>\n",
       "      <td>2</td>\n",
       "    </tr>\n",
       "    <tr>\n",
       "      <th>Liberal Arts</th>\n",
       "      <td>8</td>\n",
       "    </tr>\n",
       "    <tr>\n",
       "      <th>Party</th>\n",
       "      <td>4</td>\n",
       "    </tr>\n",
       "    <tr>\n",
       "      <th>State</th>\n",
       "      <td>50</td>\n",
       "    </tr>\n",
       "    <tr>\n",
       "      <th rowspan=\"5\" valign=\"top\">Northeastern</th>\n",
       "      <th>Engineering</th>\n",
       "      <td>9</td>\n",
       "    </tr>\n",
       "    <tr>\n",
       "      <th>Ivy League</th>\n",
       "      <td>8</td>\n",
       "    </tr>\n",
       "    <tr>\n",
       "      <th>Liberal Arts</th>\n",
       "      <td>25</td>\n",
       "    </tr>\n",
       "    <tr>\n",
       "      <th>Party</th>\n",
       "      <td>3</td>\n",
       "    </tr>\n",
       "    <tr>\n",
       "      <th>State</th>\n",
       "      <td>25</td>\n",
       "    </tr>\n",
       "    <tr>\n",
       "      <th rowspan=\"4\" valign=\"top\">Southern</th>\n",
       "      <th>Engineering</th>\n",
       "      <td>3</td>\n",
       "    </tr>\n",
       "    <tr>\n",
       "      <th>Liberal Arts</th>\n",
       "      <td>4</td>\n",
       "    </tr>\n",
       "    <tr>\n",
       "      <th>Party</th>\n",
       "      <td>11</td>\n",
       "    </tr>\n",
       "    <tr>\n",
       "      <th>State</th>\n",
       "      <td>50</td>\n",
       "    </tr>\n",
       "    <tr>\n",
       "      <th rowspan=\"4\" valign=\"top\">Western</th>\n",
       "      <th>Engineering</th>\n",
       "      <td>2</td>\n",
       "    </tr>\n",
       "    <tr>\n",
       "      <th>Liberal Arts</th>\n",
       "      <td>7</td>\n",
       "    </tr>\n",
       "    <tr>\n",
       "      <th>Party</th>\n",
       "      <td>1</td>\n",
       "    </tr>\n",
       "    <tr>\n",
       "      <th>State</th>\n",
       "      <td>29</td>\n",
       "    </tr>\n",
       "  </tbody>\n",
       "</table>\n",
       "</div>"
      ],
      "text/plain": [
       "                           Number of Schools\n",
       "region       school_type                    \n",
       "California   Engineering                   2\n",
       "             Liberal Arts                  3\n",
       "             Party                         1\n",
       "             State                        21\n",
       "Midwestern   Engineering                   2\n",
       "             Liberal Arts                  8\n",
       "             Party                         4\n",
       "             State                        50\n",
       "Northeastern Engineering                   9\n",
       "             Ivy League                    8\n",
       "             Liberal Arts                 25\n",
       "             Party                         3\n",
       "             State                        25\n",
       "Southern     Engineering                   3\n",
       "             Liberal Arts                  4\n",
       "             Party                        11\n",
       "             State                        50\n",
       "Western      Engineering                   2\n",
       "             Liberal Arts                  7\n",
       "             Party                         1\n",
       "             State                        29"
      ]
     },
     "execution_count": 13,
     "metadata": {},
     "output_type": "execute_result"
    }
   ],
   "source": [
    "#grouping information based region and school_type\n",
    "schoolT_perRegion = school_data.groupby(['region',\n",
    "                                         'school_type']).size().to_frame()\n",
    "\n",
    "#renaming column\n",
    "schoolT_perRegion.columns = ['Number of Schools']\n",
    "\n",
    "schoolT_perRegion"
   ]
  },
  {
   "cell_type": "code",
   "execution_count": 14,
   "id": "c8de63a0",
   "metadata": {},
   "outputs": [
    {
     "data": {
      "text/plain": [
       "Text(0.5, 1.0, 'Number of Schools in each Region by School Type')"
      ]
     },
     "execution_count": 14,
     "metadata": {},
     "output_type": "execute_result"
    },
    {
     "data": {
      "image/png": "[encoded data removed]",
      "text/plain": [
       "<Figure size 1440x720 with 1 Axes>"
      ]
     },
     "metadata": {
      "needs_background": "light"
     },
     "output_type": "display_data"
    }
   ],
   "source": [
    "#using scatterplot to graph number of schools based of region and school_type\n",
    "plt.figure(figsize=(20, 10))\n",
    "sns.scatterplot(data=schoolT_perRegion,\n",
    "                x='school_type',\n",
    "                y='Number of Schools',\n",
    "                hue='region',\n",
    "                s=500).set_title('Number of Schools in each Region by School Type')"
   ]
  },
  {
   "cell_type": "markdown",
   "id": "f01edc61",
   "metadata": {},
   "source": [
    "Looking at this scatterplot we get a look at where are schools are located based on region in the United States. We can see that Ivy League school are all located in the Northeastern Region while most of the State schools are located in the Southern Region. Lets break this down further by looking at this from a salary stand point."
   ]
  },
  {
   "cell_type": "markdown",
   "id": "714d6644",
   "metadata": {},
   "source": [
    "  "
   ]
  },
  {
   "cell_type": "code",
   "execution_count": 37,
   "id": "cef7695e",
   "metadata": {},
   "outputs": [
    {
     "data": {
      "text/html": [
       "<div>\n",
       "<style scoped>\n",
       "    .dataframe tbody tr th:only-of-type {\n",
       "        vertical-align: middle;\n",
       "    }\n",
       "\n",
       "    .dataframe tbody tr th {\n",
       "        vertical-align: top;\n",
       "    }\n",
       "\n",
       "    .dataframe thead th {\n",
       "        text-align: right;\n",
       "    }\n",
       "</style>\n",
       "<table border=\"1\" class=\"dataframe\">\n",
       "  <thead>\n",
       "    <tr style=\"text-align: right;\">\n",
       "      <th></th>\n",
       "      <th>Starting Salary</th>\n",
       "    </tr>\n",
       "    <tr>\n",
       "      <th>school_type</th>\n",
       "      <th></th>\n",
       "    </tr>\n",
       "  </thead>\n",
       "  <tbody>\n",
       "    <tr>\n",
       "      <th>Ivy League</th>\n",
       "      <td>60475.00</td>\n",
       "    </tr>\n",
       "    <tr>\n",
       "      <th>Engineering</th>\n",
       "      <td>57778.57</td>\n",
       "    </tr>\n",
       "    <tr>\n",
       "      <th>Liberal Arts</th>\n",
       "      <td>46171.43</td>\n",
       "    </tr>\n",
       "    <tr>\n",
       "      <th>Party</th>\n",
       "      <td>45878.95</td>\n",
       "    </tr>\n",
       "    <tr>\n",
       "      <th>State</th>\n",
       "      <td>44304.14</td>\n",
       "    </tr>\n",
       "  </tbody>\n",
       "</table>\n",
       "</div>"
      ],
      "text/plain": [
       "              Starting Salary\n",
       "school_type                  \n",
       "Ivy League           60475.00\n",
       "Engineering          57778.57\n",
       "Liberal Arts         46171.43\n",
       "Party                45878.95\n",
       "State                44304.14"
      ]
     },
     "execution_count": 37,
     "metadata": {},
     "output_type": "execute_result"
    }
   ],
   "source": [
    "#grouping average start_median_salary based on school_type\n",
    "schoolType_start_salary = school_data.groupby('school_type').mean(\n",
    "    'start_median_salary').sort_values('start_median_salary', ascending=False).round(2)\n",
    "\n",
    "#dropping unnecessary columns\n",
    "schoolType_start_salary = schoolType_start_salary.drop(columns=[\n",
    "    'mid_median_salary', 'mid_per_10', 'mid_per_25', 'mid_per_75', 'mid_per_90'\n",
    "])\n",
    "\n",
    "#renaming column\n",
    "schoolType_start_salary.columns = ['Starting Salary']\n",
    "\n",
    "schoolType_start_salary"
   ]
  },
  {
   "cell_type": "code",
   "execution_count": 38,
   "id": "35150bc5",
   "metadata": {},
   "outputs": [
    {
     "data": {
      "text/html": [
       "<div>\n",
       "<style scoped>\n",
       "    .dataframe tbody tr th:only-of-type {\n",
       "        vertical-align: middle;\n",
       "    }\n",
       "\n",
       "    .dataframe tbody tr th {\n",
       "        vertical-align: top;\n",
       "    }\n",
       "\n",
       "    .dataframe thead th {\n",
       "        text-align: right;\n",
       "    }\n",
       "</style>\n",
       "<table border=\"1\" class=\"dataframe\">\n",
       "  <thead>\n",
       "    <tr style=\"text-align: right;\">\n",
       "      <th></th>\n",
       "      <th>Number_of_schools</th>\n",
       "    </tr>\n",
       "    <tr>\n",
       "      <th>school_type</th>\n",
       "      <th></th>\n",
       "    </tr>\n",
       "  </thead>\n",
       "  <tbody>\n",
       "    <tr>\n",
       "      <th>State</th>\n",
       "      <td>169</td>\n",
       "    </tr>\n",
       "    <tr>\n",
       "      <th>Party</th>\n",
       "      <td>19</td>\n",
       "    </tr>\n",
       "    <tr>\n",
       "      <th>Engineering</th>\n",
       "      <td>14</td>\n",
       "    </tr>\n",
       "    <tr>\n",
       "      <th>Liberal Arts</th>\n",
       "      <td>14</td>\n",
       "    </tr>\n",
       "    <tr>\n",
       "      <th>Ivy League</th>\n",
       "      <td>8</td>\n",
       "    </tr>\n",
       "  </tbody>\n",
       "</table>\n",
       "</div>"
      ],
      "text/plain": [
       "              Number_of_schools\n",
       "school_type                    \n",
       "State                       169\n",
       "Party                        19\n",
       "Engineering                  14\n",
       "Liberal Arts                 14\n",
       "Ivy League                    8"
      ]
     },
     "execution_count": 38,
     "metadata": {},
     "output_type": "execute_result"
    }
   ],
   "source": [
    "#count the school_types \n",
    "school_type_count = school_data.groupby('school_type').size().sort_values(ascending=False).to_frame()\n",
    "school_type_count.columns = ['Number_of_schools']\n",
    "school_type_count"
   ]
  },
  {
   "cell_type": "code",
   "execution_count": 39,
   "id": "334fb3f0",
   "metadata": {},
   "outputs": [
    {
     "data": {
      "text/plain": [
       "Text(0.5, 1.0, 'Average starting Salary by School Type')"
      ]
     },
     "execution_count": 39,
     "metadata": {},
     "output_type": "execute_result"
    },
    {
     "data": {
      "image/png": "[encoded data removed]",
      "text/plain": [
       "<Figure size 1080x576 with 1 Axes>"
      ]
     },
     "metadata": {
      "needs_background": "light"
     },
     "output_type": "display_data"
    }
   ],
   "source": [
    "#plotting starting salary based off school_type\n",
    "plt.figure(figsize=(15, 8))\n",
    "sns.barplot(data=schoolType_start_salary,\n",
    "            y='Starting Salary',\n",
    "            x=schoolType_start_salary.index,\n",
    "            palette='mako').set_title('Average starting Salary by School Type')"
   ]
  },
  {
   "cell_type": "markdown",
   "id": "81ac7cea",
   "metadata": {},
   "source": [
    "Here we can see that even though there is a very large amount of State schools all throughout the United States its average salary is overall the lowest out of all the school types at 44304.14 dollars. Looking at Ivy League schools we can see that it is the highest average starting salary even though it has a lower amount of schools at 60475.00 dollars. "
   ]
  },
  {
   "cell_type": "markdown",
   "id": "29a2fc37",
   "metadata": {},
   "source": [
    " "
   ]
  },
  {
   "cell_type": "markdown",
   "id": "fed40c82",
   "metadata": {},
   "source": [
    "## Regression Modeling"
   ]
  },
  {
   "cell_type": "markdown",
   "id": "1dd7b55c",
   "metadata": {},
   "source": [
    "Now we are going to use a regression analysis to test where the our dependent variable, ‘start_median_salary’ successfully answers out question as to whether Ivy League schools have the highest starting median salary. "
   ]
  },
  {
   "cell_type": "code",
   "execution_count": 43,
   "id": "e390f75e",
   "metadata": {},
   "outputs": [],
   "source": [
    "# Dropping all NaN values from the data set\n",
    "school_data1 = school_data.dropna(inplace=True)"
   ]
  },
  {
   "cell_type": "code",
   "execution_count": 18,
   "id": "b402e442",
   "metadata": {},
   "outputs": [
    {
     "data": {
      "text/html": [
       "<div>\n",
       "<style scoped>\n",
       "    .dataframe tbody tr th:only-of-type {\n",
       "        vertical-align: middle;\n",
       "    }\n",
       "\n",
       "    .dataframe tbody tr th {\n",
       "        vertical-align: top;\n",
       "    }\n",
       "\n",
       "    .dataframe thead th {\n",
       "        text-align: right;\n",
       "    }\n",
       "</style>\n",
       "<table border=\"1\" class=\"dataframe\">\n",
       "  <thead>\n",
       "    <tr style=\"text-align: right;\">\n",
       "      <th></th>\n",
       "      <th>mid_median_salary</th>\n",
       "      <th>mid_per_10</th>\n",
       "      <th>mid_per_25</th>\n",
       "      <th>mid_per_75</th>\n",
       "      <th>mid_per_90</th>\n",
       "      <th>Engineering</th>\n",
       "      <th>Ivy League</th>\n",
       "      <th>Liberal Arts</th>\n",
       "      <th>Party</th>\n",
       "      <th>State</th>\n",
       "    </tr>\n",
       "  </thead>\n",
       "  <tbody>\n",
       "    <tr>\n",
       "      <th>3</th>\n",
       "      <td>112000.0</td>\n",
       "      <td>59500.0</td>\n",
       "      <td>81000.0</td>\n",
       "      <td>149000.0</td>\n",
       "      <td>201000.0</td>\n",
       "      <td>0</td>\n",
       "      <td>0</td>\n",
       "      <td>0</td>\n",
       "      <td>0</td>\n",
       "      <td>1</td>\n",
       "    </tr>\n",
       "    <tr>\n",
       "      <th>5</th>\n",
       "      <td>101000.0</td>\n",
       "      <td>55000.0</td>\n",
       "      <td>74700.0</td>\n",
       "      <td>133000.0</td>\n",
       "      <td>178000.0</td>\n",
       "      <td>0</td>\n",
       "      <td>0</td>\n",
       "      <td>0</td>\n",
       "      <td>0</td>\n",
       "      <td>1</td>\n",
       "    </tr>\n",
       "    <tr>\n",
       "      <th>6</th>\n",
       "      <td>101000.0</td>\n",
       "      <td>51300.0</td>\n",
       "      <td>72500.0</td>\n",
       "      <td>139000.0</td>\n",
       "      <td>193000.0</td>\n",
       "      <td>0</td>\n",
       "      <td>0</td>\n",
       "      <td>0</td>\n",
       "      <td>0</td>\n",
       "      <td>1</td>\n",
       "    </tr>\n",
       "    <tr>\n",
       "      <th>7</th>\n",
       "      <td>101000.0</td>\n",
       "      <td>51700.0</td>\n",
       "      <td>75400.0</td>\n",
       "      <td>131000.0</td>\n",
       "      <td>177000.0</td>\n",
       "      <td>0</td>\n",
       "      <td>0</td>\n",
       "      <td>0</td>\n",
       "      <td>0</td>\n",
       "      <td>1</td>\n",
       "    </tr>\n",
       "    <tr>\n",
       "      <th>10</th>\n",
       "      <td>99600.0</td>\n",
       "      <td>52000.0</td>\n",
       "      <td>71600.0</td>\n",
       "      <td>135000.0</td>\n",
       "      <td>202000.0</td>\n",
       "      <td>0</td>\n",
       "      <td>0</td>\n",
       "      <td>0</td>\n",
       "      <td>0</td>\n",
       "      <td>1</td>\n",
       "    </tr>\n",
       "    <tr>\n",
       "      <th>...</th>\n",
       "      <td>...</td>\n",
       "      <td>...</td>\n",
       "      <td>...</td>\n",
       "      <td>...</td>\n",
       "      <td>...</td>\n",
       "      <td>...</td>\n",
       "      <td>...</td>\n",
       "      <td>...</td>\n",
       "      <td>...</td>\n",
       "      <td>...</td>\n",
       "    </tr>\n",
       "    <tr>\n",
       "      <th>332</th>\n",
       "      <td>72600.0</td>\n",
       "      <td>43300.0</td>\n",
       "      <td>56100.0</td>\n",
       "      <td>99600.0</td>\n",
       "      <td>151000.0</td>\n",
       "      <td>0</td>\n",
       "      <td>0</td>\n",
       "      <td>0</td>\n",
       "      <td>0</td>\n",
       "      <td>1</td>\n",
       "    </tr>\n",
       "    <tr>\n",
       "      <th>334</th>\n",
       "      <td>72100.0</td>\n",
       "      <td>41700.0</td>\n",
       "      <td>55600.0</td>\n",
       "      <td>99300.0</td>\n",
       "      <td>141000.0</td>\n",
       "      <td>0</td>\n",
       "      <td>0</td>\n",
       "      <td>0</td>\n",
       "      <td>0</td>\n",
       "      <td>1</td>\n",
       "    </tr>\n",
       "    <tr>\n",
       "      <th>335</th>\n",
       "      <td>70300.0</td>\n",
       "      <td>35100.0</td>\n",
       "      <td>51200.0</td>\n",
       "      <td>100000.0</td>\n",
       "      <td>179000.0</td>\n",
       "      <td>0</td>\n",
       "      <td>0</td>\n",
       "      <td>0</td>\n",
       "      <td>0</td>\n",
       "      <td>1</td>\n",
       "    </tr>\n",
       "    <tr>\n",
       "      <th>337</th>\n",
       "      <td>66200.0</td>\n",
       "      <td>32800.0</td>\n",
       "      <td>44200.0</td>\n",
       "      <td>93300.0</td>\n",
       "      <td>181000.0</td>\n",
       "      <td>0</td>\n",
       "      <td>0</td>\n",
       "      <td>0</td>\n",
       "      <td>0</td>\n",
       "      <td>1</td>\n",
       "    </tr>\n",
       "    <tr>\n",
       "      <th>338</th>\n",
       "      <td>63600.0</td>\n",
       "      <td>40400.0</td>\n",
       "      <td>47900.0</td>\n",
       "      <td>85700.0</td>\n",
       "      <td>117000.0</td>\n",
       "      <td>0</td>\n",
       "      <td>0</td>\n",
       "      <td>0</td>\n",
       "      <td>0</td>\n",
       "      <td>1</td>\n",
       "    </tr>\n",
       "  </tbody>\n",
       "</table>\n",
       "<p>224 rows × 10 columns</p>\n",
       "</div>"
      ],
      "text/plain": [
       "     mid_median_salary  mid_per_10  mid_per_25  mid_per_75  mid_per_90  \\\n",
       "3             112000.0     59500.0     81000.0    149000.0    201000.0   \n",
       "5             101000.0     55000.0     74700.0    133000.0    178000.0   \n",
       "6             101000.0     51300.0     72500.0    139000.0    193000.0   \n",
       "7             101000.0     51700.0     75400.0    131000.0    177000.0   \n",
       "10             99600.0     52000.0     71600.0    135000.0    202000.0   \n",
       "..                 ...         ...         ...         ...         ...   \n",
       "332            72600.0     43300.0     56100.0     99600.0    151000.0   \n",
       "334            72100.0     41700.0     55600.0     99300.0    141000.0   \n",
       "335            70300.0     35100.0     51200.0    100000.0    179000.0   \n",
       "337            66200.0     32800.0     44200.0     93300.0    181000.0   \n",
       "338            63600.0     40400.0     47900.0     85700.0    117000.0   \n",
       "\n",
       "     Engineering  Ivy League  Liberal Arts  Party  State  \n",
       "3              0           0             0      0      1  \n",
       "5              0           0             0      0      1  \n",
       "6              0           0             0      0      1  \n",
       "7              0           0             0      0      1  \n",
       "10             0           0             0      0      1  \n",
       "..           ...         ...           ...    ...    ...  \n",
       "332            0           0             0      0      1  \n",
       "334            0           0             0      0      1  \n",
       "335            0           0             0      0      1  \n",
       "337            0           0             0      0      1  \n",
       "338            0           0             0      0      1  \n",
       "\n",
       "[224 rows x 10 columns]"
      ]
     },
     "execution_count": 18,
     "metadata": {},
     "output_type": "execute_result"
    }
   ],
   "source": [
    "#column we are using to make our prediction\n",
    "dependent_vars = school_data['start_median_salary']\n",
    "\n",
    "#create dummies variavbles for the column school_type as they are not a numeric value\n",
    "location_encoded = pd.get_dummies(school_data['school_type'])\n",
    "\n",
    "#Attaching it to a new dataframe\n",
    "school_data1 = pd.concat([school_data, location_encoded], axis=1)\n",
    "\n",
    "#dropping columns not needed for regression analysis\n",
    "school_data1 = school_data1.drop(\n",
    "    columns=['region', 'start_median_salary', 'school', 'school_type'])\n",
    "\n",
    "#Confirming dataframe\n",
    "school_data1"
   ]
  },
  {
   "cell_type": "code",
   "execution_count": 19,
   "id": "a3634b01",
   "metadata": {},
   "outputs": [
    {
     "name": "stdout",
     "output_type": "stream",
     "text": [
      "                             OLS Regression Results                            \n",
      "===============================================================================\n",
      "Dep. Variable:     start_median_salary   R-squared:                       0.903\n",
      "Model:                             OLS   Adj. R-squared:                  0.899\n",
      "Method:                  Least Squares   F-statistic:                     221.7\n",
      "Date:                 Wed, 08 Dec 2021   Prob (F-statistic):          2.74e-103\n",
      "Time:                         18:11:31   Log-Likelihood:                -2007.7\n",
      "No. Observations:                  224   AIC:                             4035.\n",
      "Df Residuals:                      214   BIC:                             4070.\n",
      "Df Model:                            9                                         \n",
      "Covariance Type:             nonrobust                                         \n",
      "=====================================================================================\n",
      "                        coef    std err          t      P>|t|      [0.025      0.975]\n",
      "-------------------------------------------------------------------------------------\n",
      "mid_median_salary     0.2756      0.055      5.014      0.000       0.167       0.384\n",
      "mid_per_10            0.0784      0.048      1.650      0.100      -0.015       0.172\n",
      "mid_per_25            0.1657      0.060      2.750      0.006       0.047       0.284\n",
      "mid_per_75            0.0030      0.030      0.099      0.921      -0.057       0.063\n",
      "mid_per_90           -0.0309      0.012     -2.573      0.011      -0.055      -0.007\n",
      "Engineering        1.612e+04   1484.907     10.856      0.000    1.32e+04     1.9e+04\n",
      "Ivy League         1.689e+04   1791.864      9.427      0.000    1.34e+04    2.04e+04\n",
      "Liberal Arts       1.279e+04   1292.326      9.899      0.000    1.02e+04    1.53e+04\n",
      "Party              1.388e+04   1198.436     11.583      0.000    1.15e+04    1.62e+04\n",
      "State              1.394e+04   1050.517     13.270      0.000    1.19e+04     1.6e+04\n",
      "==============================================================================\n",
      "Omnibus:                        2.311   Durbin-Watson:                   2.093\n",
      "Prob(Omnibus):                  0.315   Jarque-Bera (JB):                1.954\n",
      "Skew:                          -0.170   Prob(JB):                        0.376\n",
      "Kurtosis:                       3.306   Cond. No.                     5.13e+06\n",
      "==============================================================================\n",
      "\n",
      "Notes:\n",
      "[1] Standard Errors assume that the covariance matrix of the errors is correctly specified.\n",
      "[2] The condition number is large, 5.13e+06. This might indicate that there are\n",
      "strong multicollinearity or other numerical problems.\n"
     ]
    }
   ],
   "source": [
    "#Creating OLS regression model\n",
    "lin_reg = sm.OLS(dependent_vars, school_data1)\n",
    "reg_results = lin_reg.fit()\n",
    "print(reg_results.summary())"
   ]
  },
  {
   "cell_type": "markdown",
   "id": "f29f167f",
   "metadata": {},
   "source": [
    "Taking a look at the OLS regression model as a value of 0.903 which is very strong as it is close to the value of 1. Using the standard of 0.05 as our level of significance, looking at the coefficient for all the variables and the hypothesis ( P>|t| ) , we can see that there are two variables (mid_per_10 and mid_per_75) that are above our level of significance. Next we will be dropping the insignificant columns and recreate our OLS model. "
   ]
  },
  {
   "cell_type": "markdown",
   "id": "f0c699a0",
   "metadata": {},
   "source": [
    " "
   ]
  },
  {
   "cell_type": "code",
   "execution_count": 20,
   "id": "5efb39de",
   "metadata": {},
   "outputs": [
    {
     "name": "stdout",
     "output_type": "stream",
     "text": [
      "                             OLS Regression Results                            \n",
      "===============================================================================\n",
      "Dep. Variable:     start_median_salary   R-squared:                       0.902\n",
      "Model:                             OLS   Adj. R-squared:                  0.899\n",
      "Method:                  Least Squares   F-statistic:                     283.7\n",
      "Date:                 Wed, 08 Dec 2021   Prob (F-statistic):          3.75e-105\n",
      "Time:                         18:11:31   Log-Likelihood:                -2009.2\n",
      "No. Observations:                  224   AIC:                             4034.\n",
      "Df Residuals:                      216   BIC:                             4062.\n",
      "Df Model:                            7                                         \n",
      "Covariance Type:             nonrobust                                         \n",
      "=====================================================================================\n",
      "                        coef    std err          t      P>|t|      [0.025      0.975]\n",
      "-------------------------------------------------------------------------------------\n",
      "mid_median_salary     0.2818      0.047      6.008      0.000       0.189       0.374\n",
      "mid_per_25            0.2227      0.049      4.524      0.000       0.126       0.320\n",
      "mid_per_90           -0.0315      0.010     -3.308      0.001      -0.050      -0.013\n",
      "Engineering        1.628e+04   1483.971     10.968      0.000    1.34e+04    1.92e+04\n",
      "Ivy League         1.668e+04   1749.115      9.536      0.000    1.32e+04    2.01e+04\n",
      "Liberal Arts       1.285e+04   1292.658      9.942      0.000    1.03e+04    1.54e+04\n",
      "Party              1.382e+04   1197.832     11.542      0.000    1.15e+04    1.62e+04\n",
      "State              1.392e+04   1051.067     13.241      0.000    1.18e+04     1.6e+04\n",
      "==============================================================================\n",
      "Omnibus:                        1.909   Durbin-Watson:                   2.050\n",
      "Prob(Omnibus):                  0.385   Jarque-Bera (JB):                1.553\n",
      "Skew:                          -0.163   Prob(JB):                        0.460\n",
      "Kurtosis:                       3.245   Cond. No.                     4.29e+06\n",
      "==============================================================================\n",
      "\n",
      "Notes:\n",
      "[1] Standard Errors assume that the covariance matrix of the errors is correctly specified.\n",
      "[2] The condition number is large, 4.29e+06. This might indicate that there are\n",
      "strong multicollinearity or other numerical problems.\n"
     ]
    }
   ],
   "source": [
    "#dropping Insignificant columns and saving it to a new data frame\n",
    "school_data2 = school_data1.drop(columns=['mid_per_10', 'mid_per_75'])\n",
    "\n",
    "#Creating a new OLS regression model\n",
    "lin_reg = sm.OLS(dependent_vars, school_data2)\n",
    "reg_results = lin_reg.fit()\n",
    "print(reg_results.summary())"
   ]
  },
  {
   "cell_type": "markdown",
   "id": "2484dcf0",
   "metadata": {},
   "source": [
    "Looking at our new OLS model we can see that our R-square value is still good at 0.902 as well as each variables level of significance is lower then 0.5. These variables are good for further predictions. "
   ]
  },
  {
   "cell_type": "markdown",
   "id": "9af26780",
   "metadata": {},
   "source": [
    " "
   ]
  },
  {
   "cell_type": "code",
   "execution_count": 21,
   "id": "ff25cea0",
   "metadata": {
    "scrolled": true
   },
   "outputs": [],
   "source": [
    "y = school_data['start_median_salary']\n",
    "X = school_data2"
   ]
  },
  {
   "cell_type": "code",
   "execution_count": 22,
   "id": "eb488b0b",
   "metadata": {},
   "outputs": [],
   "source": [
    "from sklearn.model_selection import train_test_split\n",
    "\n",
    "X_train, X_test, y_train, y_test = train_test_split(X,\n",
    "                                                    y,\n",
    "                                                    test_size=0.25,\n",
    "                                                    random_state=0)"
   ]
  },
  {
   "cell_type": "code",
   "execution_count": 23,
   "id": "602cc761",
   "metadata": {},
   "outputs": [],
   "source": [
    "from sklearn.linear_model import LinearRegression\n",
    "\n",
    "lr = LinearRegression()\n",
    "lr.fit(X_train, y_train)\n",
    "\n",
    "y_pred = lr.predict(X_test)"
   ]
  },
  {
   "cell_type": "code",
   "execution_count": 24,
   "id": "04f3320e",
   "metadata": {},
   "outputs": [],
   "source": [
    "#Grabbing only school_types to show in Coeff plot\n",
    "data_x = np.concatenate((lr.coef_[:0], lr.coef_[3:]))\n",
    "plotindex = np.concatenate((X.columns[:0], X.columns[3:]))"
   ]
  },
  {
   "cell_type": "code",
   "execution_count": 25,
   "id": "21c520c0",
   "metadata": {},
   "outputs": [
    {
     "data": {
      "text/plain": [
       "<AxesSubplot:>"
      ]
     },
     "execution_count": 25,
     "metadata": {},
     "output_type": "execute_result"
    },
    {
     "data": {
      "image/png": "[encoded data removed]",
      "text/plain": [
       "<Figure size 432x288 with 1 Axes>"
      ]
     },
     "metadata": {
      "needs_background": "light"
     },
     "output_type": "display_data"
    }
   ],
   "source": [
    "coeff = pd.Series(data=data_x, index=plotindex).sort_values()\n",
    "coeff.plot(kind='bar')"
   ]
  },
  {
   "cell_type": "markdown",
   "id": "bb578c89",
   "metadata": {},
   "source": [
    "Looking at this graph we can see that Ivy League and Engineering have a more postive correlation based on our dependent variables"
   ]
  },
  {
   "cell_type": "code",
   "execution_count": 26,
   "id": "41175fca",
   "metadata": {},
   "outputs": [
    {
     "name": "stdout",
     "output_type": "stream",
     "text": [
      "MSE: 3209100.53\n",
      "R-Square: 0.89\n"
     ]
    }
   ],
   "source": [
    "# calculating MSE\n",
    "print('MSE:', np.round(mt.mean_squared_error(y_test, y_pred), 2))\n",
    "\n",
    "# calculating R-Square\n",
    "print('R-Square:', np.round(mt.r2_score(y_test, y_pred), 2))"
   ]
  },
  {
   "cell_type": "markdown",
   "id": "591324ff",
   "metadata": {},
   "source": [
    "Looking at our MSE value, it is very high value due to the salaries being very high, but if we square root 3209100.53 we get a value you of 1791.40. The square root value shows that with all the salaries there is an error range of 1791.40, which is really strong considering the values of our salary is 40,000 and higher. The R-square values is really strong at 0.89 being really close to 1. \n",
    "\n",
    "In regards to the individual coefficients, both Ivy League schools and Engineering have a positive correlation with our dependant variable ‘start_median_salary’ which supports my overall claim of Ivy League schools have a higher starting salary. "
   ]
  },
  {
   "cell_type": "markdown",
   "id": "92a94d6b",
   "metadata": {},
   "source": [
    "# Conclusion"
   ]
  },
  {
   "cell_type": "markdown",
   "id": "21cebce1",
   "metadata": {},
   "source": [
    "With a complete analysis exploring the data sets of College Salaries in the United States, I can confidently say that my hypothesis of ‘Attending an Ivy League school automatically gives you a higher starting salary’ hold true. We saw this with the different graphs plotted exploring the data as well as using regression analysis modelling. \n",
    "\n",
    "To explore a more interactive dashboard of the data here is a link to Tableau Public: [INSERT LINK]"
   ]
  },
  {
   "cell_type": "code",
   "execution_count": null,
   "id": "68f3c56b",
   "metadata": {},
   "outputs": [],
   "source": []
  }
 ],
 "metadata": {
  "kernelspec": {
   "display_name": "Python 3",
   "language": "python",
   "name": "python3"
  },
  "language_info": {
   "codemirror_mode": {
    "name": "ipython",
    "version": 3
   },
   "file_extension": ".py",
   "mimetype": "text/x-python",
   "name": "python",
   "nbconvert_exporter": "python",
   "pygments_lexer": "ipython3",
   "version": "3.8.8"
  },
  "toc": {
   "base_numbering": 1,
   "nav_menu": {},
   "number_sections": true,
   "sideBar": true,
   "skip_h1_title": false,
   "title_cell": "Table of Contents",
   "title_sidebar": "Contents",
   "toc_cell": false,
   "toc_position": {},
   "toc_section_display": true,
   "toc_window_display": true
  },
  "varInspector": {
   "cols": {
    "lenName": 16,
    "lenType": 16,
    "lenVar": 40
   },
   "kernels_config": {
    "python": {
     "delete_cmd_postfix": "",
     "delete_cmd_prefix": "del ",
     "library": "var_list.py",
     "varRefreshCmd": "print(var_dic_list())"
    },
    "r": {
     "delete_cmd_postfix": ") ",
     "delete_cmd_prefix": "rm(",
     "library": "var_list.r",
     "varRefreshCmd": "cat(var_dic_list()) "
    }
   },
   "types_to_exclude": [
    "module",
    "function",
    "builtin_function_or_method",
    "instance",
    "_Feature"
   ],
   "window_display": false
  }
 },
 "nbformat": 4,
 "nbformat_minor": 5
}
